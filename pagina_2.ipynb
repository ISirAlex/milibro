{
 "cells": [
  {
   "cell_type": "markdown",
   "id": "810b8de4",
   "metadata": {},
   "source": [
    "# Bienvenido a la pagina 2"
   ]
  },
  {
   "cell_type": "markdown",
   "id": "dfb59852",
   "metadata": {},
   "source": [
    "<h1 style=\"color: blue;\">Ventajas sobre las tics</h1>"
   ]
  },
  {
   "cell_type": "markdown",
   "id": "d0b83135",
   "metadata": {},
   "source": [
    "<p>Las TIC son Tecnologías de la Información y la Comunicación. Es decir, son todos los dispositivos creados para almacenar, transmitir, recibir y enviar información combinando redes telefónicas, audiovisuales e informáticas. Por ejemplo, un teléfono móvil, una computadora, un televisor, etc.</p>"
   ]
  },
  {
   "cell_type": "markdown",
   "id": "0d91c5f5",
   "metadata": {},
   "source": [
    "<p>Algunas ventajas de las TIC son, por ejemplo, el acceso a multitud de recursos para el aprendizaje y la información, así como la facilidad para realizar trámites y acceder a determinados servicios.</p>"
   ]
  },
  {
   "cell_type": "markdown",
   "id": "d26cd35e",
   "metadata": {},
   "source": [
    "<p> Las virtudes de las TICs no son difíciles de enumerar: su mayor velocidad, capacidad y distribución de la información permiten que usuarios de distintas partes del planeta pueden conectarse usando computadores y otros aparatos especializados, para comunicarse de múltiples maneras y emprender diversas transacciones: comprar y vender objetos e información, compartir datos personales, conversar en tiempo real, incluso jugar videojuegos en línea aún sin hablar el mismo idioma.\n"
   ]
  },
  {
   "cell_type": "markdown",
   "id": "221e6a86",
   "metadata": {},
   "source": [
    "<table>\n",
    "\n",
    "<th ></th>\n",
    "\t\t\t<th scope=\"col\">Ventajas de las TIC</th>\n",
    "\t\t\t\n",
    "\t\t\n",
    "<tbody>\n",
    "\n",
    "<td>En la educación</td>\n",
    "\t\t\t<td>\n",
    "\t\t\t<ul>\n",
    "<li>Acceso a diversas fuentes de información.</li>\n",
    "\t\t\t\t<li>Comunicación en tiempo real.</li>\n",
    "\t\t\t\t<li>Mayor interacción.</li>\n",
    "\t\t\t\t<li>Desarrollo de nuevas habilidades fuera del currículo oficial.</li>\n",
    "\t\t\t\t<li>Aprendizaje personalizado.</li>\n",
    "\t\t\t</ul>\n",
    "</td>\n",
    "\t\t\t\n",
    "\t\t\n",
    "<tr>\n",
    "<td>En la sociedad</td>\n",
    "\t\t\t<td>\n",
    "\t\t\t<ul>\n",
    "<li>Democratización del acceso a la información.</li>\n",
    "\t\t\t\t<li>Optimización de trámites burocráticos.</li>\n",
    "\t\t\t\t<li>Acceso a productos y servicios sin límites geográficos.</li>\n",
    "\t\t\t\t<li>Acceso a nuevas tecnologías a precios accesibles.</li>\n",
    "\t\t\t</ul>\n",
    "</td>\n",
    "\n",
    "\t\n",
    "<tr>\n",
    "<td>En las empresas</td>\n",
    "\t\t\t<td>\n",
    "\t\t\t<ul>\n",
    "<li>Eficiencia en la toma de decisiones.</li>\n",
    "\t\t\t\t<li>Nuevas modalidades de trabajo.</li>\n",
    "\t\t\t\t<li>Nuevas oportunidades de crecimiento</li>\n",
    "\t\t\t</ul>\n",
    "</td>\n",
    "\t\t\n",
    "\t\t\n",
    "<tr>\n",
    "<td>En el hogar</td>\n",
    "\t\t\t<td>\n",
    "\t\t\t<ul>\n",
    "<li>Facilitan la comunicación.</li>\n",
    "\t\t\t\t<li>Permiten el acceso a la educación y el trabajo.</li>\n",
    "\t\t\t</ul>\n",
    "</td>\n",
    "\t\t\t\n",
    "\t\t\n",
    "</tbody>\n",
    "</table>"
   ]
  },
  {
   "cell_type": "markdown",
   "id": "8a1a8f6d",
   "metadata": {},
   "source": [
    "<h3>Ventajas de las TIC en la educación</h3>"
   ]
  },
  {
   "cell_type": "markdown",
   "id": "83f29e3c",
   "metadata": {},
   "source": [
    "<img src=\"https://cdn.diferenciador.com/imagenes/ventajas-de-las-tic-cke.jpg\">"
   ]
  },
  {
   "cell_type": "markdown",
   "id": "dd7dc4d8",
   "metadata": {},
   "source": [
    "<p>Las tecnologías de la comunicación y la información pueden promover el acceso al conocimiento, el desarrollo de nuevas habilidades u otros beneficios en diferentes ámbitos, tal y como se explica a continuación.</p>"
   ]
  },
  {
   "cell_type": "markdown",
   "id": "82dc37c7",
   "metadata": {},
   "source": [
    "<p><strong>1. Acceso a diversas fuentes de información</strong></p>"
   ]
  },
  {
   "cell_type": "markdown",
   "id": "5aa98004",
   "metadata": {},
   "source": [
    "<p>Las tecnologías de la información permiten el acceso al conocimiento de manera instantánea y en diversos formatos.</p>"
   ]
  },
  {
   "cell_type": "markdown",
   "id": "fc709305",
   "metadata": {},
   "source": [
    "<p>Un estudiante puede acceder a varias fuentes de información de forma escrita, en audio o en video. Los contenidos educativos son cada vez más interactivos y fomentan la participación del usuario.</p>"
   ]
  },
  {
   "cell_type": "markdown",
   "id": "6d222e04",
   "metadata": {},
   "source": [
    "<p><strong>2. Comunicación en tiempo real</strong></p>"
   ]
  },
  {
   "cell_type": "markdown",
   "id": "e2bcb0aa",
   "metadata": {},
   "source": [
    "<p>Una de las ventajas de las TIC en la educación es que los estudiantes y profesores pueden estar en contacto en tiempo real, sin importar su localización geográfica.</p>"
   ]
  },
  {
   "cell_type": "markdown",
   "id": "7a27e314",
   "metadata": {},
   "source": [
    "<p>Esto es especialmente ventajoso en situaciones que impiden o limitan las clases de forma presencial, como pandemias, desastres naturales o eventualidades cotidianas.</p>"
   ]
  },
  {
   "cell_type": "markdown",
   "id": "39c2e01a",
   "metadata": {},
   "source": [
    "<p>De esta forma, las TIC contribuyen a disminuir el absentismo por parte de profesores o estudiantes, e impactan positivamente en el rendimiento de las instituciones educativas.</p>"
   ]
  },
  {
   "cell_type": "markdown",
   "id": "86e0edbf",
   "metadata": {},
   "source": [
    "<p><strong>3. Mayor interacción</strong></p>"
   ]
  },
  {
   "cell_type": "markdown",
   "id": "a89a24c0",
   "metadata": {},
   "source": [
    "<p>Las tecnologías de la información facilitan la interacción entre estudiantes y usuarios de todo el mundo, dejando atrás las barreras geográficas.</p>"
   ]
  },
  {
   "cell_type": "markdown",
   "id": "6c5e2718",
   "metadata": {},
   "source": [
    "<p>Esto les permite ponerse en contacto con profesores, mentores, especialistas, autores, o con otros pares con quienes compartir el proceso educativo.</p>"
   ]
  },
  {
   "cell_type": "markdown",
   "id": "4f8ca27b",
   "metadata": {},
   "source": [
    "<p>Un ejemplo son los cursos de idiomas <em>online</em>, que facilitan la interacción con estudiantes de diversos países, quienes enseñan su idioma nativo a sus compañeros y a la vez aprenden una lengua nueva.</p>"
   ]
  },
  {
   "cell_type": "markdown",
   "id": "6a8cddca",
   "metadata": {},
   "source": [
    "<p><strong>4. Desarrollo de nuevas habilidades fuera del currículo oficial</strong></p>"
   ]
  },
  {
   "cell_type": "markdown",
   "id": "d8855769",
   "metadata": {},
   "source": [
    "<p>Una de las grandes ventajas de las TIC en la educación es que permiten la adquisición de conocimientos y habilidades que no están incluidas en los planes educativos oficiales.</p>"
   ]
  },
  {
   "cell_type": "markdown",
   "id": "395f4198",
   "metadata": {},
   "source": [
    "<p>Hoy en día, cualquier persona con acceso a las TIC puede formarse en diversas áreas, bien sea de manera autodidacta o guiada por un especialista.</p>"
   ]
  },
  {
   "cell_type": "markdown",
   "id": "15a5e94c",
   "metadata": {},
   "source": [
    "<p>Por ejemplo, un niño puede aprender programación, un estudiante de secundario puede aprender sobre finanzas, un contable puede tomar clases en línea de japonés, etc.</p>"
   ]
  },
  {
   "cell_type": "markdown",
   "id": "5f1ea609",
   "metadata": {},
   "source": [
    "<p><strong>5. Aprendizaje personalizado</strong></p>"
   ]
  },
  {
   "cell_type": "markdown",
   "id": "af922384",
   "metadata": {},
   "source": [
    "<p>Las TIC permiten a las personas aprender a su propio ritmo. Existen tutoriales en video que, al estar grabados, pueden ser vistos las veces que sea necesario.</p>"
   ]
  },
  {
   "cell_type": "markdown",
   "id": "053118a8",
   "metadata": {},
   "source": [
    "<p>De hecho, muchas plataformas de cursos en línea permiten que los estudiantes tengan acceso a las clases de forma permanente, lo cual les permite consultar los contenidos sin limitaciones de tiempo.</p>"
   ]
  },
  {
   "cell_type": "markdown",
   "id": "ee480b70",
   "metadata": {},
   "source": []
  }
 ],
 "metadata": {
  "kernelspec": {
   "display_name": "Python 3 (ipykernel)",
   "language": "python",
   "name": "python3"
  },
  "language_info": {
   "codemirror_mode": {
    "name": "ipython",
    "version": 3
   },
   "file_extension": ".py",
   "mimetype": "text/x-python",
   "name": "python",
   "nbconvert_exporter": "python",
   "pygments_lexer": "ipython3",
   "version": "3.7.0"
  }
 },
 "nbformat": 4,
 "nbformat_minor": 5
}
