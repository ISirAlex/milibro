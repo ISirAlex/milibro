{
 "cells": [
  {
   "cell_type": "markdown",
   "id": "5851c851",
   "metadata": {},
   "source": [
    "# Bienvenido a la **Pagina 1**"
   ]
  },
  {
   "cell_type": "markdown",
   "id": "f3a826c6",
   "metadata": {},
   "source": [
    "<h1 style=\"color: green;\">La importancia de las TICs</h1>"
   ]
  },
  {
   "cell_type": "markdown",
   "id": "93f6331a",
   "metadata": {},
   "source": [
    "<p>La Tecnología es el pilar fundamental en la vida de muchas personas en la actualidad. Probablemente, de la mayoría de nosotros. Consciente o inconscientemente, vivimos rodeados de tecnología y esta nos ayuda y nos facilita la vida de diversos modos. Las Tecnologías de la Información y la Comunicación (TICs) son consideradas como unas herramientas que permiten el fácil acceso a la información y a su vez, garantizan un aprendizaje didáctico con plena adquisición de conocimientos para el mejor desenvolvimiento del ser humano en su entorno. ¿Pero cuál es la importancia de las tics en la actualidad? ¡Quédate en este post y conoce la relevancia de estas en numerosos sectores distintos!</p>"
   ]
  },
  {
   "cell_type": "markdown",
   "id": "13940064",
   "metadata": {},
   "source": [
    "<img src=\"https://iddocente.com/wp-content/uploads/2020/11/idd_tic_escuela_ok.jpg\">"
   ]
  },
  {
   "cell_type": "markdown",
   "id": "9af02a64",
   "metadata": {},
   "source": [
    "<p> El proceso de enseñanza aprendizaje ha ido evolucionando a través del tiempo y es que con el desarrollo de las nuevas tecnologías, la innovación tiene lugar a través de estos últimos años. Estrategias que van de la mano con el Internet, son las que actualmente predominan en la difusión de la información, junto con el deseo de la población alrededor del mundo en obtener conocimiento actual, rápido y confiable. ¡La importancia de las tics es clave! ¿Quieres acompañarnos a descubrirla? ¡Empezamos! </p>"
   ]
  },
  {
   "cell_type": "markdown",
   "id": "f53e2867",
   "metadata": {},
   "source": [
    "<h1>TICs en la Educación</h1>"
   ]
  },
  {
   "cell_type": "markdown",
   "id": "7f6cda82",
   "metadata": {},
   "source": [
    "<p>Es fundamental comprender que los profesores y docentes siempre van a ser pilar del proceso educativo de sus estudiantes. La importancia de las TICs en la educación, es facilitar la transmisión de conocimientos y el aprendizaje de los estudiantes, con el fin de promulgar las buenas prácticas hacia el proceso de aprendizaje del alumno, quien actualmente es el centro de interacciones y conocimientos.\n",
    "\n",
    "Por ello, las TICs en la Educación permite a profesores y alumnos desarrollar procesos de aprendizaje mucho más personalizados y vanguardistas. Que respondan a las necesidades actuales. Las principales características que manifiestan las TICs en la educación, podemos resumirlas de la siguiente manera:</p>"
   ]
  },
  {
   "cell_type": "markdown",
   "id": "88ac9b7a",
   "metadata": {},
   "source": [
    "<ul>\n",
    "    <li> <b>Fuente de información: </b> base del conocimiento que va a adquirir el estudiante en su proceso de investigación.</li>\n",
    "    <li> <b>Gestión Docente:</b> facilita la labor de los maestros, profesores y docentes en las labores de <b>enseñanza</b>, tutoría y evaluación de desempeño del estudiante.</li>\n",
    "    <li> <b>Motivación:</b> a través de información procesada en documentos y multimedia.</li>\n",
    "</ul>"
   ]
  },
  {
   "cell_type": "markdown",
   "id": "42bb8ba0",
   "metadata": {},
   "source": [
    "  <h1>TICs en la Sociedad</h1>"
   ]
  },
  {
   "cell_type": "markdown",
   "id": "ffdc611d",
   "metadata": {},
   "source": [
    "<p>Mantener las empresas en la actualidad requiere del uso de tecnologías de la información, y actualmente con el auge que ha tenido la modalidad del teletrabajo, los gastos financieros han disminuido y se ha incrementado la integración en el trabajo y eficaz gestión de los recursos de la empresa.</p>"
   ]
  },
  {
   "cell_type": "markdown",
   "id": "57261d81",
   "metadata": {},
   "source": [
    "<p>Mencionamos nuevamente al Internet, como columna vertebral de importancia de las TICs en las empresas, incrementándose su uso a través de conexiones para almacenamiento de datos, plataformas tecnológicas de sistemas operativos, comercio electrónico, elementos de marketing y publicidad, redes sociales y más.</p>"
   ]
  },
  {
   "cell_type": "markdown",
   "id": "5ac5f8ae",
   "metadata": {},
   "source": [
    "<img src=\"https://i.pinimg.com/564x/f9/b5/67/f9b56741f9c1303ec438327e7ba72877.jpg\">"
   ]
  },
  {
   "cell_type": "markdown",
   "id": "39c8eb6f",
   "metadata": {},
   "source": [
    "<p>Como hemos visto, las TICs son fundamentales en muchos sectores. Con lo antes mencionado, hemos puesto al descubierto que la importancia de las TICs en la vida cotidiana está inmersa en todos los ámbitos: educativo, social y económico. Pero... ¿Qué pasa con el día a día? Lo tenemos a flor de piel, evidenciado en el uso de las herramientas de información, tales como: los smartphones, los ordenadores, los dispositivos móviles electrónicos, los cuales son medios comunes para acceder a la información. ¡Las TICs también nos acompañan en nuestras rutinas!</p>"
   ]
  }
 ],
 "metadata": {
  "kernelspec": {
   "display_name": "Python 3 (ipykernel)",
   "language": "python",
   "name": "python3"
  },
  "language_info": {
   "codemirror_mode": {
    "name": "ipython",
    "version": 3
   },
   "file_extension": ".py",
   "mimetype": "text/x-python",
   "name": "python",
   "nbconvert_exporter": "python",
   "pygments_lexer": "ipython3",
   "version": "3.7.0"
  }
 },
 "nbformat": 4,
 "nbformat_minor": 5
}
