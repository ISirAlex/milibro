{
 "cells": [
  {
   "cell_type": "markdown",
   "id": "97fbdee6",
   "metadata": {},
   "source": [
    "# **¿Qué son las TICs y por qué son importantes?**"
   ]
  },
  {
   "cell_type": "markdown",
   "id": "066b3c9a",
   "metadata": {},
   "source": [
    "<img src=\"https://es.snhu.edu/img/article/que-son-las-tics-y-por-que-son-importantes\">"
   ]
  },
  {
   "cell_type": "markdown",
   "id": "9b5717d4",
   "metadata": {},
   "source": [
    "## Definición"
   ]
  },
  {
   "cell_type": "markdown",
   "id": "4fc6fdb2",
   "metadata": {},
   "source": [
    "Las TIC's pueden definirse como las tecnologías que utilizan la informática, la microelectrónica y las telecomunicaciones para crear nuevas formas de comunicación con el fin de facilitar la emisión, acceso y tratamiento de la información.\n",
    "\n",
    "Estas permiten una nueva forma de procesamiento de los datos que combina las tecnologías de la comunicación (TC) y las tecnologías de la información (TI). La suma de ambas al desarrollo de redes da como resultado un mayor acceso a la información.\n",
    "\n",
    "TIC es un término general que abarca radio, televisión, teléfonos celulares, computadoras, hardware de red, sistemas satelitales, etc., así como diversos servicios y dispositivos como videoconferencias y el aprendizaje a distancia. Por esta razón, las TIC's han cobrado gran relevancia en la actualidad y conquistado cada vez más espacios."
   ]
  },
  {
   "cell_type": "markdown",
   "id": "1e42a05b",
   "metadata": {},
   "source": [
    "## Importancia"
   ]
  },
  {
   "cell_type": "markdown",
   "id": "1070afce",
   "metadata": {},
   "source": [
    "El sector de las Tecnologías de la Información y Comunicación es actualmente uno de los más importantes, pues estas son consideradas como unas herramientas que permiten el fácil acceso a la información y una comunicación eficiente, rápida y clara entre diversos miembros de una misma organización. En este sentido, las TIC's garantizan un aprendizaje didáctico con plena adquisición de conocimientos para el mejor desenvolvimiento del ser humano en su entorno, favoreciendo sectores vitales como la educación, la salud y las finanzas."
   ]
  },
  {
   "cell_type": "markdown",
   "id": "c276d448",
   "metadata": {},
   "source": [
    "<h2>Ingrese al siguiente enlace para revisar todo sobre su importancia</h2>"
   ]
  },
  {
   "cell_type": "markdown",
   "id": "d5e5f547",
   "metadata": {},
   "source": [
    "  <a href=\"docs/pagina_1.html\">Importancia sobre las **TICS**</a>"
   ]
  },
  {
   "cell_type": "markdown",
   "id": "454d902c",
   "metadata": {},
   "source": [
    "  <h2>Ingrese al siguiente enlace para revisar las Ventajas de las TICs en la educación</h2>"
   ]
  },
  {
   "cell_type": "markdown",
   "id": "ce1ca9f0",
   "metadata": {},
   "source": [
    "  <a href=\"pagina_2.html\">Ventajas sobre las **TICS**</a>"
   ]
  },
  {
   "cell_type": "markdown",
   "id": "2f25624b",
   "metadata": {},
   "source": [
    "  <h2>Ingrese al siguiente enlace para revisar las Desventajas de las TICs en la eduación</h2>"
   ]
  },
  {
   "cell_type": "markdown",
   "id": "f165b543",
   "metadata": {},
   "source": [
    "  <a href=\"pagina_3.html\">Desventajas sobre las **TICS**</a>"
   ]
  }
 ],
 "metadata": {
  "kernelspec": {
   "display_name": "Python 3 (ipykernel)",
   "language": "python",
   "name": "python3"
  },
  "language_info": {
   "codemirror_mode": {
    "name": "ipython",
    "version": 3
   },
   "file_extension": ".py",
   "mimetype": "text/x-python",
   "name": "python",
   "nbconvert_exporter": "python",
   "pygments_lexer": "ipython3",
   "version": "3.7.0"
  }
 },
 "nbformat": 4,
 "nbformat_minor": 5
}