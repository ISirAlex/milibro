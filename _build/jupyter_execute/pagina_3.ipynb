{
 "cells": [
  {
   "cell_type": "markdown",
   "id": "40490b5c",
   "metadata": {},
   "source": [
    "# Bienvenido a la Página 3"
   ]
  },
  {
   "cell_type": "markdown",
   "id": "9aef2ca2",
   "metadata": {},
   "source": [
    "<h1 style=\"color: blue\">Desventajas del uso de las TIC y la tecnología educativa</h1>"
   ]
  },
  {
   "cell_type": "markdown",
   "id": "ac7b0e93",
   "metadata": {},
   "source": [
    "<img src=\"https://www.armadilloamarillo.com/wp-content/uploads/Ventajas-de-TIC-en-educaci%C3%B3n.jpg\">"
   ]
  },
  {
   "cell_type": "markdown",
   "id": "65887f47",
   "metadata": {},
   "source": [
    "<h3>Distracciones</h3>"
   ]
  },
  {
   "cell_type": "markdown",
   "id": "6a694689",
   "metadata": {},
   "source": [
    "<p>Cierto es, que es muy fácil que con esta herramienta surjan pérdidas de tiempo a cada rato. Por ello, cada persona debe autocensurarse y efectuar una gestión correcta de su tiempo de trabajo y descansos.</p>"
   ]
  },
  {
   "cell_type": "markdown",
   "id": "f59c6042",
   "metadata": {},
   "source": [
    "<h3>Proceso educativo poco humano</h3>"
   ]
  },
  {
   "cell_type": "markdown",
   "id": "70c545f4",
   "metadata": {},
   "source": [
    "<p>El proceso de aprendizaje, al ser a través de una máquina, puede volverse impersonal y frío. El hecho de no estar en contacto directo con compañeros y docentes le da este toque de deshumanización a la educación.</p>"
   ]
  },
  {
   "cell_type": "markdown",
   "id": "9266d6f8",
   "metadata": {},
   "source": [
    "<h3>No es completamente inclusivo</h3>"
   ]
  },
  {
   "cell_type": "markdown",
   "id": "4b732e22",
   "metadata": {},
   "source": [
    "<p>Gran parte de la población mundial no tiene acceso a esta herramienta. Las diferencias entre países, regiones y clases sociales siguen vigentes en nuestro mundo y el acceso a la red continúa no siendo global.</p>"
   ]
  },
  {
   "cell_type": "markdown",
   "id": "6a4fe28b",
   "metadata": {},
   "source": [
    "<h3>Puede anular habilidades y capacidad crítica</h3>"
   ]
  },
  {
   "cell_type": "markdown",
   "id": "767bd3e6",
   "metadata": {},
   "source": [
    "<p>La escritura a mano beneficia el desarrollo cognitivo. Los “mejor me lo apunto que me acuerdo mejor” no son ninguna tontería. De hecho, para aquellos con ciertos tipos de memoria, esta desventaja supone un gran problema. Además, el uso permanente de las maquinas provocará que muchas personas “se olviden” cómo es o dejen de practicar el arte de la escritura. Si a día de hoy supone un pequeño problema, veremos cuanto afectará a los niños del futuro.</p>"
   ]
  },
  {
   "cell_type": "markdown",
   "id": "0c416979",
   "metadata": {},
   "source": [
    "<img src=\"https://www.armadilloamarillo.com/wp-content/uploads/Apps-educativas.jpg\">"
   ]
  },
  {
   "cell_type": "markdown",
   "id": "ea551585",
   "metadata": {},
   "source": [
    "<h2> Entre las principales desventajas en la educación tenemos las siguientes:  </h2>"
   ]
  },
  {
   "cell_type": "markdown",
   "id": "8995971c",
   "metadata": {},
   "source": [
    "<p><strong>1. Riesgo de desigualdad y exclusión</strong></p>"
   ]
  },
  {
   "cell_type": "markdown",
   "id": "e965217e",
   "metadata": {},
   "source": [
    "<p>Una de las desventajas más notorias de las TIC es que pueden ser causa de desigualdad y exclusión en el ámbito educativo, ya que es necesario contar con internet y cierto tipo de dispositivos para aprovechar todas sus ventajas. Por lo tanto, las personas que no cuenten con estos recursos difícilmente podrán tener acceso a la educación.</p>"
   ]
  },
  {
   "cell_type": "markdown",
   "id": "b532f2df",
   "metadata": {},
   "source": [
    "<p><strong>2. Pueden ser una fuente de distracción</strong></p>"
   ]
  },
  {
   "cell_type": "markdown",
   "id": "f68e020b",
   "metadata": {},
   "source": [
    "<p>El uso excesivo de las TIC puede convertirse en una distracción que aleje a los estudiantes de sus objetivos educativos.</p>"
   ]
  },
  {
   "cell_type": "markdown",
   "id": "3d508bec",
   "metadata": {},
   "source": [
    "<p>Las redes sociales y los juegos en línea son algunas formas en las que niños, jóvenes y adultos se entretienen usando las TIC, lo cual puede interferir con su tiempo de estudio y rendimiento académico.</p>"
   ]
  },
  {
   "cell_type": "markdown",
   "id": "3e9b3df1",
   "metadata": {},
   "source": [
    "<p><strong>3. Acceso a información de baja calidad</strong></p>"
   ]
  },
  {
   "cell_type": "markdown",
   "id": "520e4b20",
   "metadata": {},
   "source": [
    "<p>Que las TIC permitan el acceso a información de todas partes del mundo no significa que todo ese contenido sea veraz o esté verificado por expertos.</p>"
   ]
  },
  {
   "cell_type": "markdown",
   "id": "5c4f6c72",
   "metadata": {},
   "source": [
    "<p>De hecho, las tecnologías de la información son un medio para la propagación de información falsa o no verificada, y esto puede disminuir la calidad de la educación online.</p>"
   ]
  },
  {
   "cell_type": "markdown",
   "id": "8e294e6b",
   "metadata": {},
   "source": [
    "<strong>4. Disminución de habilidades manuales</strong>"
   ]
  },
  {
   "cell_type": "markdown",
   "id": "05b2f138",
   "metadata": {},
   "source": [
    "<p>El uso continuo del teléfono inteligente, computadora, <em>laptop</em> o <em>tablet</em> hace que habilidades manuales como la escritura o el dibujo a mano, hoy sean poco utilizadas.</p>"
   ]
  },
  {
   "cell_type": "markdown",
   "id": "b6ac0997",
   "metadata": {},
   "source": [
    "<p>Sin embargo, la escritura a mano es esencial en la primera infancia para ayudar a desarrollar la coordinación ojo-mano, conocida también como motricidad fina. Actividades como dibujar, pintar o recortar ayudan a crear y afinar destrezas manuales y a estimular la creatividad.</p>"
   ]
  },
  {
   "cell_type": "markdown",
   "id": "3a1613e0",
   "metadata": {},
   "source": [
    "<p>Por eso, la sustitución de este tipo de actividades podría suponer una disminución de habilidades manuales que son útiles y necesarias para el desarrollo integral de los niños.</p>"
   ]
  }
 ],
 "metadata": {
  "kernelspec": {
   "display_name": "Python 3 (ipykernel)",
   "language": "python",
   "name": "python3"
  },
  "language_info": {
   "codemirror_mode": {
    "name": "ipython",
    "version": 3
   },
   "file_extension": ".py",
   "mimetype": "text/x-python",
   "name": "python",
   "nbconvert_exporter": "python",
   "pygments_lexer": "ipython3",
   "version": "3.7.0"
  }
 },
 "nbformat": 4,
 "nbformat_minor": 5
}